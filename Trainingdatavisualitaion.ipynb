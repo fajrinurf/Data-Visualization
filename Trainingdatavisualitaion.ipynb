{
 "cells": [
  {
   "cell_type": "code",
   "execution_count": 3,
   "metadata": {},
   "outputs": [
    {
     "name": "stdout",
     "output_type": "stream",
     "text": [
      "value\n"
     ]
    }
   ],
   "source": [
    "variable = 'value'\n",
    "nilai = 100\n",
    "print(variable)"
   ]
  },
  {
   "cell_type": "code",
   "execution_count": 4,
   "metadata": {},
   "outputs": [
    {
     "name": "stdout",
     "output_type": "stream",
     "text": [
      "100\n"
     ]
    }
   ],
   "source": [
    "print(nilai)"
   ]
  },
  {
   "cell_type": "code",
   "execution_count": 5,
   "metadata": {},
   "outputs": [
    {
     "data": {
      "text/plain": [
       "str"
      ]
     },
     "execution_count": 5,
     "metadata": {},
     "output_type": "execute_result"
    }
   ],
   "source": [
    "type(variable)"
   ]
  },
  {
   "cell_type": "code",
   "execution_count": 6,
   "metadata": {},
   "outputs": [
    {
     "data": {
      "text/plain": [
       "int"
      ]
     },
     "execution_count": 6,
     "metadata": {},
     "output_type": "execute_result"
    }
   ],
   "source": [
    "type(nilai)"
   ]
  },
  {
   "cell_type": "code",
   "execution_count": 7,
   "metadata": {},
   "outputs": [
    {
     "name": "stdin",
     "output_type": "stream",
     "text": [
      "Nama saya adalah Fajri Nurfauzan\n"
     ]
    },
    {
     "name": "stdout",
     "output_type": "stream",
     "text": [
      "Fajri Nurfauzan\n"
     ]
    }
   ],
   "source": [
    "nama = input('Nama saya adalah')\n",
    "print(nama)"
   ]
  },
  {
   "cell_type": "code",
   "execution_count": 9,
   "metadata": {},
   "outputs": [
    {
     "data": {
      "text/plain": [
       "int"
      ]
     },
     "execution_count": 9,
     "metadata": {},
     "output_type": "execute_result"
    }
   ],
   "source": [
    "nim = 1103180184\n",
    "type(nim)"
   ]
  },
  {
   "cell_type": "code",
   "execution_count": 10,
   "metadata": {},
   "outputs": [
    {
     "data": {
      "text/plain": [
       "str"
      ]
     },
     "execution_count": 10,
     "metadata": {},
     "output_type": "execute_result"
    }
   ],
   "source": [
    "nim = str(nim)\n",
    "type(nim)"
   ]
  },
  {
   "cell_type": "code",
   "execution_count": 11,
   "metadata": {},
   "outputs": [
    {
     "data": {
      "text/plain": [
       "float"
      ]
     },
     "execution_count": 11,
     "metadata": {},
     "output_type": "execute_result"
    }
   ],
   "source": [
    "nim = float(nim)\n",
    "type(nim)"
   ]
  },
  {
   "cell_type": "code",
   "execution_count": 12,
   "metadata": {},
   "outputs": [
    {
     "name": "stdin",
     "output_type": "stream",
     "text": [
      "Masukkan NIM Anda 1103180184\n"
     ]
    },
    {
     "name": "stdout",
     "output_type": "stream",
     "text": [
      "1103180184\n"
     ]
    },
    {
     "data": {
      "text/plain": [
       "int"
      ]
     },
     "execution_count": 12,
     "metadata": {},
     "output_type": "execute_result"
    }
   ],
   "source": [
    "nim = int(input('Masukkan NIM Anda'))\n",
    "print(nim)\n",
    "type(nim)"
   ]
  },
  {
   "cell_type": "code",
   "execution_count": 14,
   "metadata": {},
   "outputs": [
    {
     "name": "stdout",
     "output_type": "stream",
     "text": [
      "Aku Pasti Bisa Mengetik di sebuah leptop orang di Jupyter\n"
     ]
    }
   ],
   "source": [
    "kata1 = 'Aku Pasti '\n",
    "kata2 = 'Bisa '\n",
    "kata3 = 'Mengetik '\n",
    "\n",
    "print(kata1+kata2+kata3+'di sebuah leptop orang di Jupyter')\n",
    "\n",
    "#cara lama menggabung string print di python"
   ]
  },
  {
   "cell_type": "code",
   "execution_count": 15,
   "metadata": {},
   "outputs": [
    {
     "name": "stdout",
     "output_type": "stream",
     "text": [
      "Aku Pasti Bisa Mengetik di sebuah laptop orang di Planet Mars\n"
     ]
    }
   ],
   "source": [
    "print(f'{kata1}{kata2}{kata3}di sebuah laptop orang di Planet Mars')\n",
    "\n",
    "#Cara baru penulisan/penggabungan string di python"
   ]
  },
  {
   "cell_type": "code",
   "execution_count": 17,
   "metadata": {},
   "outputs": [
    {
     "data": {
      "text/plain": [
       "'\\nAturan penulisan variable:\\n- ga boleh angka duluan : 10nama\\n- ga boleh simbol yang aneh aneh : nama@\\n- ga boleh pakai underscore duluan : _nama << Private Variable\\n- Nama ga boleh dipisah : kata 1, kata  2 <<Ga boleh karena tidak akan kebaca harus kata1,kata2\\n\\n'"
      ]
     },
     "execution_count": 17,
     "metadata": {},
     "output_type": "execute_result"
    }
   ],
   "source": [
    "'''\n",
    "Aturan penulisan variable:\n",
    "- ga boleh angka duluan : 10nama\n",
    "- ga boleh simbol yang aneh aneh : nama@\n",
    "- ga boleh pakai underscore duluan : _nama << Private Variable\n",
    "- Nama ga boleh dipisah : kata 1, kata  2 <<Ga boleh karena tidak akan kebaca harus kata1,kata2\n",
    "\n",
    "'''"
   ]
  },
  {
   "cell_type": "code",
   "execution_count": 18,
   "metadata": {},
   "outputs": [
    {
     "data": {
      "text/plain": [
       "'\\nPerulangan: \\nfor       Batas udah diketahui\\nwhile     Selama kondisi benar >> jalan  terus\\ndo while  Jalanin dulu >> baru dicek kondisi\\n'"
      ]
     },
     "execution_count": 18,
     "metadata": {},
     "output_type": "execute_result"
    }
   ],
   "source": [
    "'''\n",
    "Perulangan: \n",
    "for       Batas udah diketahui\n",
    "while     Selama kondisi benar >> jalan  terus\n",
    "do while  Jalanin dulu >> baru dicek kondisi\n",
    "'''"
   ]
  },
  {
   "cell_type": "code",
   "execution_count": 19,
   "metadata": {},
   "outputs": [
    {
     "ename": "SyntaxError",
     "evalue": "invalid syntax (<ipython-input-19-a090a3f28bbe>, line 1)",
     "output_type": "error",
     "traceback": [
      "\u001b[1;36m  File \u001b[1;32m\"<ipython-input-19-a090a3f28bbe>\"\u001b[1;36m, line \u001b[1;32m1\u001b[0m\n\u001b[1;33m    for(i=1;i<=10;i++){\u001b[0m\n\u001b[1;37m         ^\u001b[0m\n\u001b[1;31mSyntaxError\u001b[0m\u001b[1;31m:\u001b[0m invalid syntax\n"
     ]
    }
   ],
   "source": [
    "for(i=1;i<=10;i++){\n",
    "    #kondisi\n",
    "}"
   ]
  },
  {
   "cell_type": "code",
   "execution_count": 23,
   "metadata": {},
   "outputs": [
    {
     "name": "stdout",
     "output_type": "stream",
     "text": [
      "0123456789"
     ]
    }
   ],
   "source": [
    "for i in range(10):\n",
    "    print(i,end='')"
   ]
  },
  {
   "cell_type": "code",
   "execution_count": 24,
   "metadata": {},
   "outputs": [
    {
     "name": "stdout",
     "output_type": "stream",
     "text": [
      "0\n",
      "1\n",
      "2\n",
      "3\n",
      "4\n",
      "5\n",
      "6\n",
      "7\n",
      "8\n",
      "9\n"
     ]
    }
   ],
   "source": [
    "for i in range(10):\n",
    "    print(i)"
   ]
  },
  {
   "cell_type": "code",
   "execution_count": 26,
   "metadata": {},
   "outputs": [
    {
     "data": {
      "text/plain": [
       "[0, 1, 2, 3, 4, 5, 6, 7, 8, 9]"
      ]
     },
     "execution_count": 26,
     "metadata": {},
     "output_type": "execute_result"
    }
   ],
   "source": [
    "[i for i in range(10)]"
   ]
  },
  {
   "cell_type": "code",
   "execution_count": 27,
   "metadata": {},
   "outputs": [
    {
     "name": "stdout",
     "output_type": "stream",
     "text": [
      "[1, 2, 3, 4, 5]\n"
     ]
    }
   ],
   "source": [
    "#List\n",
    "angka = [1,2,3,4,5]\n",
    "print(angka)"
   ]
  },
  {
   "cell_type": "code",
   "execution_count": 35,
   "metadata": {},
   "outputs": [],
   "source": [
    "Kalkulus = 'ZONK'"
   ]
  },
  {
   "cell_type": "code",
   "execution_count": 37,
   "metadata": {},
   "outputs": [
    {
     "name": "stdout",
     "output_type": "stream",
     "text": [
      "['ZONK', 'Kimia', 'Fisika', 'Probstat', 'Big Data']\n"
     ]
    }
   ],
   "source": [
    "Matakuliah = [Kalkulus,'Kimia','Fisika','Probstat','Big Data']\n",
    "print(Matakuliah)"
   ]
  },
  {
   "cell_type": "code",
   "execution_count": 34,
   "metadata": {},
   "outputs": [
    {
     "name": "stdout",
     "output_type": "stream",
     "text": [
      "['Kalkulus', 'Kimia', 'Fisika', 'Probstat', 'Big Data', 'PPTK']\n"
     ]
    }
   ],
   "source": [
    "Matakuliah = ['Kalkulus','Kimia','Fisika','Probstat','Big Data']\n",
    "\n",
    "type(Matakuliah)\n",
    "\n",
    "Matakuliah.append('PPTK')\n",
    "print(Matakuliah)"
   ]
  },
  {
   "cell_type": "code",
   "execution_count": 38,
   "metadata": {},
   "outputs": [
    {
     "data": {
      "text/plain": [
       "'ZONK'"
      ]
     },
     "execution_count": 38,
     "metadata": {},
     "output_type": "execute_result"
    }
   ],
   "source": [
    "Matakuliah.pop(0)"
   ]
  },
  {
   "cell_type": "code",
   "execution_count": 39,
   "metadata": {},
   "outputs": [
    {
     "data": {
      "text/plain": [
       "['Kimia', 'Fisika', 'Probstat', 'Big Data']"
      ]
     },
     "execution_count": 39,
     "metadata": {},
     "output_type": "execute_result"
    }
   ],
   "source": [
    "Matakuliah"
   ]
  },
  {
   "cell_type": "code",
   "execution_count": 41,
   "metadata": {},
   "outputs": [
    {
     "data": {
      "text/plain": [
       "'Big Data'"
      ]
     },
     "execution_count": 41,
     "metadata": {},
     "output_type": "execute_result"
    }
   ],
   "source": [
    "Matakuliah[3]"
   ]
  },
  {
   "cell_type": "code",
   "execution_count": 42,
   "metadata": {},
   "outputs": [
    {
     "ename": "SyntaxError",
     "evalue": "invalid syntax (<ipython-input-42-96ccc2ef7bbc>, line 3)",
     "output_type": "error",
     "traceback": [
      "\u001b[1;36m  File \u001b[1;32m\"<ipython-input-42-96ccc2ef7bbc>\"\u001b[1;36m, line \u001b[1;32m3\u001b[0m\n\u001b[1;33m    int luassegitiga(int luas, int tinggi){\u001b[0m\n\u001b[1;37m                   ^\u001b[0m\n\u001b[1;31mSyntaxError\u001b[0m\u001b[1;31m:\u001b[0m invalid syntax\n"
     ]
    }
   ],
   "source": [
    "#Function\n",
    "\n",
    "int luassegitiga(int alas, int tinggi){\n",
    "    return 0.5*alas*tinggi;\n",
    "}\n",
    "\n",
    "#Penuliasan function dibahasa C"
   ]
  },
  {
   "cell_type": "code",
   "execution_count": 45,
   "metadata": {},
   "outputs": [],
   "source": [
    "def luassegitiga(alas,tinggi):\n",
    "    return 0.5*alas*tinggi\n",
    "\n",
    "#Penulisan function dibahasa python"
   ]
  },
  {
   "cell_type": "code",
   "execution_count": 46,
   "metadata": {},
   "outputs": [
    {
     "data": {
      "text/plain": [
       "50.0"
      ]
     },
     "execution_count": 46,
     "metadata": {},
     "output_type": "execute_result"
    }
   ],
   "source": [
    "luassegitiga(10,10)"
   ]
  },
  {
   "cell_type": "code",
   "execution_count": 48,
   "metadata": {},
   "outputs": [],
   "source": [
    "def luassegitiga(alas,tinggi=5):\n",
    "    return 0.5*alas*tinggi"
   ]
  },
  {
   "cell_type": "code",
   "execution_count": 49,
   "metadata": {},
   "outputs": [
    {
     "data": {
      "text/plain": [
       "25.0"
      ]
     },
     "execution_count": 49,
     "metadata": {},
     "output_type": "execute_result"
    }
   ],
   "source": [
    "luassegitiga(10)"
   ]
  },
  {
   "cell_type": "code",
   "execution_count": 50,
   "metadata": {},
   "outputs": [
    {
     "data": {
      "text/plain": [
       "50"
      ]
     },
     "execution_count": 50,
     "metadata": {},
     "output_type": "execute_result"
    }
   ],
   "source": [
    "def luassegitiga(alas,tinggi=5):\n",
    "    a = 0.5*alas*tinggi\n",
    "    return int(a)\n",
    "\n",
    "luassegitiga(10,10)"
   ]
  },
  {
   "cell_type": "code",
   "execution_count": 53,
   "metadata": {},
   "outputs": [
    {
     "name": "stdin",
     "output_type": "stream",
     "text": [
      "Masukkan angkalah :  100\n",
      "Masukkan Nilai atuh :  50\n"
     ]
    },
    {
     "data": {
      "text/plain": [
       "2500"
      ]
     },
     "execution_count": 53,
     "metadata": {},
     "output_type": "execute_result"
    }
   ],
   "source": [
    "nilaia = int(input('Masukkan angkalah : '))\n",
    "nilaib = int(input('Masukkan Nilai atuh : '))\n",
    "\n",
    "luassegitiga(nilaia,nilaib)"
   ]
  },
  {
   "cell_type": "code",
   "execution_count": 55,
   "metadata": {},
   "outputs": [],
   "source": [
    "import pandas as pd               #inisialisasi\n",
    "import matplotlib.pyplot as plt"
   ]
  },
  {
   "cell_type": "code",
   "execution_count": 56,
   "metadata": {},
   "outputs": [
    {
     "data": {
      "text/html": [
       "<div>\n",
       "<style scoped>\n",
       "    .dataframe tbody tr th:only-of-type {\n",
       "        vertical-align: middle;\n",
       "    }\n",
       "\n",
       "    .dataframe tbody tr th {\n",
       "        vertical-align: top;\n",
       "    }\n",
       "\n",
       "    .dataframe thead th {\n",
       "        text-align: right;\n",
       "    }\n",
       "</style>\n",
       "<table border=\"1\" class=\"dataframe\">\n",
       "  <thead>\n",
       "    <tr style=\"text-align: right;\">\n",
       "      <th></th>\n",
       "      <th>itemId</th>\n",
       "      <th>category</th>\n",
       "      <th>name</th>\n",
       "      <th>rating</th>\n",
       "      <th>originalRating</th>\n",
       "      <th>reviewTitle</th>\n",
       "      <th>reviewContent</th>\n",
       "      <th>likeCount</th>\n",
       "      <th>upVotes</th>\n",
       "      <th>downVotes</th>\n",
       "      <th>helpful</th>\n",
       "      <th>relevanceScore</th>\n",
       "      <th>boughtDate</th>\n",
       "      <th>clientType</th>\n",
       "      <th>retrievedDate</th>\n",
       "    </tr>\n",
       "  </thead>\n",
       "  <tbody>\n",
       "    <tr>\n",
       "      <td>0</td>\n",
       "      <td>100002528</td>\n",
       "      <td>beli-harddisk-eksternal</td>\n",
       "      <td>Kamal U.</td>\n",
       "      <td>5</td>\n",
       "      <td>NaN</td>\n",
       "      <td>NaN</td>\n",
       "      <td>bagus  mantap dah sesui pesanan</td>\n",
       "      <td>0</td>\n",
       "      <td>0</td>\n",
       "      <td>0</td>\n",
       "      <td>True</td>\n",
       "      <td>26.51</td>\n",
       "      <td>09 Apr 2019</td>\n",
       "      <td>androidApp</td>\n",
       "      <td>2019-10-02</td>\n",
       "    </tr>\n",
       "    <tr>\n",
       "      <td>1</td>\n",
       "      <td>100002528</td>\n",
       "      <td>beli-harddisk-eksternal</td>\n",
       "      <td>yofanca m.</td>\n",
       "      <td>4</td>\n",
       "      <td>NaN</td>\n",
       "      <td>NaN</td>\n",
       "      <td>Bagus, sesuai foto</td>\n",
       "      <td>0</td>\n",
       "      <td>0</td>\n",
       "      <td>0</td>\n",
       "      <td>True</td>\n",
       "      <td>22.49</td>\n",
       "      <td>24 Sep 2017</td>\n",
       "      <td>androidApp</td>\n",
       "      <td>2019-10-02</td>\n",
       "    </tr>\n",
       "    <tr>\n",
       "      <td>2</td>\n",
       "      <td>100002528</td>\n",
       "      <td>beli-harddisk-eksternal</td>\n",
       "      <td>Lazada Customer</td>\n",
       "      <td>5</td>\n",
       "      <td>NaN</td>\n",
       "      <td>ok mantaaapppp barang sesuai pesanan.. good</td>\n",
       "      <td>okkkkk mantaaaaaaapppp ... goood</td>\n",
       "      <td>0</td>\n",
       "      <td>0</td>\n",
       "      <td>0</td>\n",
       "      <td>True</td>\n",
       "      <td>21.50</td>\n",
       "      <td>04 Apr 2018</td>\n",
       "      <td>androidApp</td>\n",
       "      <td>2019-10-02</td>\n",
       "    </tr>\n",
       "    <tr>\n",
       "      <td>3</td>\n",
       "      <td>100002528</td>\n",
       "      <td>beli-harddisk-eksternal</td>\n",
       "      <td>Lazada Customer</td>\n",
       "      <td>4</td>\n",
       "      <td>NaN</td>\n",
       "      <td>NaN</td>\n",
       "      <td>bagus sesuai</td>\n",
       "      <td>0</td>\n",
       "      <td>0</td>\n",
       "      <td>0</td>\n",
       "      <td>True</td>\n",
       "      <td>20.51</td>\n",
       "      <td>22 Sep 2017</td>\n",
       "      <td>androidApp</td>\n",
       "      <td>2019-10-02</td>\n",
       "    </tr>\n",
       "    <tr>\n",
       "      <td>4</td>\n",
       "      <td>100002528</td>\n",
       "      <td>beli-harddisk-eksternal</td>\n",
       "      <td>Yosep M.</td>\n",
       "      <td>5</td>\n",
       "      <td>NaN</td>\n",
       "      <td>NaN</td>\n",
       "      <td>NaN</td>\n",
       "      <td>0</td>\n",
       "      <td>0</td>\n",
       "      <td>0</td>\n",
       "      <td>True</td>\n",
       "      <td>16.01</td>\n",
       "      <td>17 Agu 2018</td>\n",
       "      <td>androidApp</td>\n",
       "      <td>2019-10-02</td>\n",
       "    </tr>\n",
       "  </tbody>\n",
       "</table>\n",
       "</div>"
      ],
      "text/plain": [
       "      itemId                 category             name  rating  \\\n",
       "0  100002528  beli-harddisk-eksternal         Kamal U.       5   \n",
       "1  100002528  beli-harddisk-eksternal       yofanca m.       4   \n",
       "2  100002528  beli-harddisk-eksternal  Lazada Customer       5   \n",
       "3  100002528  beli-harddisk-eksternal  Lazada Customer       4   \n",
       "4  100002528  beli-harddisk-eksternal         Yosep M.       5   \n",
       "\n",
       "   originalRating                                  reviewTitle  \\\n",
       "0             NaN                                          NaN   \n",
       "1             NaN                                          NaN   \n",
       "2             NaN  ok mantaaapppp barang sesuai pesanan.. good   \n",
       "3             NaN                                          NaN   \n",
       "4             NaN                                          NaN   \n",
       "\n",
       "                      reviewContent  likeCount  upVotes  downVotes  helpful  \\\n",
       "0   bagus  mantap dah sesui pesanan          0        0          0     True   \n",
       "1                Bagus, sesuai foto          0        0          0     True   \n",
       "2  okkkkk mantaaaaaaapppp ... goood          0        0          0     True   \n",
       "3                      bagus sesuai          0        0          0     True   \n",
       "4                               NaN          0        0          0     True   \n",
       "\n",
       "   relevanceScore   boughtDate  clientType retrievedDate  \n",
       "0           26.51  09 Apr 2019  androidApp    2019-10-02  \n",
       "1           22.49  24 Sep 2017  androidApp    2019-10-02  \n",
       "2           21.50  04 Apr 2018  androidApp    2019-10-02  \n",
       "3           20.51  22 Sep 2017  androidApp    2019-10-02  \n",
       "4           16.01  17 Agu 2018  androidApp    2019-10-02  "
      ]
     },
     "execution_count": 56,
     "metadata": {},
     "output_type": "execute_result"
    }
   ],
   "source": [
    "#dataframe\n",
    "df = pd.read_csv('20191002-reviews.csv')\n",
    "df.head()"
   ]
  },
  {
   "cell_type": "code",
   "execution_count": 57,
   "metadata": {},
   "outputs": [
    {
     "data": {
      "text/html": [
       "<div>\n",
       "<style scoped>\n",
       "    .dataframe tbody tr th:only-of-type {\n",
       "        vertical-align: middle;\n",
       "    }\n",
       "\n",
       "    .dataframe tbody tr th {\n",
       "        vertical-align: top;\n",
       "    }\n",
       "\n",
       "    .dataframe thead th {\n",
       "        text-align: right;\n",
       "    }\n",
       "</style>\n",
       "<table border=\"1\" class=\"dataframe\">\n",
       "  <thead>\n",
       "    <tr style=\"text-align: right;\">\n",
       "      <th></th>\n",
       "      <th>itemId</th>\n",
       "      <th>category</th>\n",
       "      <th>name</th>\n",
       "      <th>rating</th>\n",
       "      <th>originalRating</th>\n",
       "      <th>reviewTitle</th>\n",
       "      <th>reviewContent</th>\n",
       "      <th>likeCount</th>\n",
       "      <th>upVotes</th>\n",
       "      <th>downVotes</th>\n",
       "      <th>helpful</th>\n",
       "      <th>relevanceScore</th>\n",
       "      <th>boughtDate</th>\n",
       "      <th>clientType</th>\n",
       "      <th>retrievedDate</th>\n",
       "    </tr>\n",
       "  </thead>\n",
       "  <tbody>\n",
       "    <tr>\n",
       "      <td>0</td>\n",
       "      <td>100002528</td>\n",
       "      <td>beli-harddisk-eksternal</td>\n",
       "      <td>Kamal U.</td>\n",
       "      <td>5</td>\n",
       "      <td>NaN</td>\n",
       "      <td>NaN</td>\n",
       "      <td>bagus  mantap dah sesui pesanan</td>\n",
       "      <td>0</td>\n",
       "      <td>0</td>\n",
       "      <td>0</td>\n",
       "      <td>True</td>\n",
       "      <td>26.51</td>\n",
       "      <td>09 Apr 2019</td>\n",
       "      <td>androidApp</td>\n",
       "      <td>2019-10-02</td>\n",
       "    </tr>\n",
       "    <tr>\n",
       "      <td>1</td>\n",
       "      <td>100002528</td>\n",
       "      <td>beli-harddisk-eksternal</td>\n",
       "      <td>yofanca m.</td>\n",
       "      <td>4</td>\n",
       "      <td>NaN</td>\n",
       "      <td>NaN</td>\n",
       "      <td>Bagus, sesuai foto</td>\n",
       "      <td>0</td>\n",
       "      <td>0</td>\n",
       "      <td>0</td>\n",
       "      <td>True</td>\n",
       "      <td>22.49</td>\n",
       "      <td>24 Sep 2017</td>\n",
       "      <td>androidApp</td>\n",
       "      <td>2019-10-02</td>\n",
       "    </tr>\n",
       "    <tr>\n",
       "      <td>2</td>\n",
       "      <td>100002528</td>\n",
       "      <td>beli-harddisk-eksternal</td>\n",
       "      <td>Lazada Customer</td>\n",
       "      <td>5</td>\n",
       "      <td>NaN</td>\n",
       "      <td>ok mantaaapppp barang sesuai pesanan.. good</td>\n",
       "      <td>okkkkk mantaaaaaaapppp ... goood</td>\n",
       "      <td>0</td>\n",
       "      <td>0</td>\n",
       "      <td>0</td>\n",
       "      <td>True</td>\n",
       "      <td>21.50</td>\n",
       "      <td>04 Apr 2018</td>\n",
       "      <td>androidApp</td>\n",
       "      <td>2019-10-02</td>\n",
       "    </tr>\n",
       "    <tr>\n",
       "      <td>3</td>\n",
       "      <td>100002528</td>\n",
       "      <td>beli-harddisk-eksternal</td>\n",
       "      <td>Lazada Customer</td>\n",
       "      <td>4</td>\n",
       "      <td>NaN</td>\n",
       "      <td>NaN</td>\n",
       "      <td>bagus sesuai</td>\n",
       "      <td>0</td>\n",
       "      <td>0</td>\n",
       "      <td>0</td>\n",
       "      <td>True</td>\n",
       "      <td>20.51</td>\n",
       "      <td>22 Sep 2017</td>\n",
       "      <td>androidApp</td>\n",
       "      <td>2019-10-02</td>\n",
       "    </tr>\n",
       "    <tr>\n",
       "      <td>4</td>\n",
       "      <td>100002528</td>\n",
       "      <td>beli-harddisk-eksternal</td>\n",
       "      <td>Yosep M.</td>\n",
       "      <td>5</td>\n",
       "      <td>NaN</td>\n",
       "      <td>NaN</td>\n",
       "      <td>NaN</td>\n",
       "      <td>0</td>\n",
       "      <td>0</td>\n",
       "      <td>0</td>\n",
       "      <td>True</td>\n",
       "      <td>16.01</td>\n",
       "      <td>17 Agu 2018</td>\n",
       "      <td>androidApp</td>\n",
       "      <td>2019-10-02</td>\n",
       "    </tr>\n",
       "    <tr>\n",
       "      <td>5</td>\n",
       "      <td>100002528</td>\n",
       "      <td>beli-harddisk-eksternal</td>\n",
       "      <td>Deden</td>\n",
       "      <td>5</td>\n",
       "      <td>NaN</td>\n",
       "      <td>NaN</td>\n",
       "      <td>NaN</td>\n",
       "      <td>0</td>\n",
       "      <td>0</td>\n",
       "      <td>0</td>\n",
       "      <td>True</td>\n",
       "      <td>16.01</td>\n",
       "      <td>02 Nov 2017</td>\n",
       "      <td>androidApp</td>\n",
       "      <td>2019-10-02</td>\n",
       "    </tr>\n",
       "    <tr>\n",
       "      <td>6</td>\n",
       "      <td>100002528</td>\n",
       "      <td>beli-harddisk-eksternal</td>\n",
       "      <td>Yeana</td>\n",
       "      <td>5</td>\n",
       "      <td>NaN</td>\n",
       "      <td>NaN</td>\n",
       "      <td>NaN</td>\n",
       "      <td>0</td>\n",
       "      <td>0</td>\n",
       "      <td>0</td>\n",
       "      <td>True</td>\n",
       "      <td>13.01</td>\n",
       "      <td>25 Sep 2017</td>\n",
       "      <td>mobile</td>\n",
       "      <td>2019-10-02</td>\n",
       "    </tr>\n",
       "    <tr>\n",
       "      <td>7</td>\n",
       "      <td>100002528</td>\n",
       "      <td>beli-harddisk-eksternal</td>\n",
       "      <td>nurfarida</td>\n",
       "      <td>1</td>\n",
       "      <td>NaN</td>\n",
       "      <td>ada pengirimn ntb bima</td>\n",
       "      <td>bima</td>\n",
       "      <td>4</td>\n",
       "      <td>4</td>\n",
       "      <td>0</td>\n",
       "      <td>True</td>\n",
       "      <td>7.22</td>\n",
       "      <td>NaN</td>\n",
       "      <td>androidApp</td>\n",
       "      <td>2019-10-02</td>\n",
       "    </tr>\n",
       "    <tr>\n",
       "      <td>8</td>\n",
       "      <td>100003785</td>\n",
       "      <td>beli-harddisk-eksternal</td>\n",
       "      <td>Fadjar B.</td>\n",
       "      <td>1</td>\n",
       "      <td>NaN</td>\n",
       "      <td>NaN</td>\n",
       "      <td>baru 10 bulan layarnya dah bergaris</td>\n",
       "      <td>0</td>\n",
       "      <td>0</td>\n",
       "      <td>0</td>\n",
       "      <td>True</td>\n",
       "      <td>21.49</td>\n",
       "      <td>06 Apr 2017</td>\n",
       "      <td>androidApp</td>\n",
       "      <td>2019-10-02</td>\n",
       "    </tr>\n",
       "    <tr>\n",
       "      <td>9</td>\n",
       "      <td>100003785</td>\n",
       "      <td>beli-harddisk-eksternal</td>\n",
       "      <td>agung p.</td>\n",
       "      <td>5</td>\n",
       "      <td>NaN</td>\n",
       "      <td>Barang bagus sesuai specs</td>\n",
       "      <td>Pesan rabu sore,minggu sore sampe,,barang sesu...</td>\n",
       "      <td>0</td>\n",
       "      <td>0</td>\n",
       "      <td>0</td>\n",
       "      <td>True</td>\n",
       "      <td>19.50</td>\n",
       "      <td>01 Mar 2017</td>\n",
       "      <td>mobile</td>\n",
       "      <td>2019-10-02</td>\n",
       "    </tr>\n",
       "  </tbody>\n",
       "</table>\n",
       "</div>"
      ],
      "text/plain": [
       "      itemId                 category             name  rating  \\\n",
       "0  100002528  beli-harddisk-eksternal         Kamal U.       5   \n",
       "1  100002528  beli-harddisk-eksternal       yofanca m.       4   \n",
       "2  100002528  beli-harddisk-eksternal  Lazada Customer       5   \n",
       "3  100002528  beli-harddisk-eksternal  Lazada Customer       4   \n",
       "4  100002528  beli-harddisk-eksternal         Yosep M.       5   \n",
       "5  100002528  beli-harddisk-eksternal            Deden       5   \n",
       "6  100002528  beli-harddisk-eksternal            Yeana       5   \n",
       "7  100002528  beli-harddisk-eksternal        nurfarida       1   \n",
       "8  100003785  beli-harddisk-eksternal        Fadjar B.       1   \n",
       "9  100003785  beli-harddisk-eksternal         agung p.       5   \n",
       "\n",
       "   originalRating                                  reviewTitle  \\\n",
       "0             NaN                                          NaN   \n",
       "1             NaN                                          NaN   \n",
       "2             NaN  ok mantaaapppp barang sesuai pesanan.. good   \n",
       "3             NaN                                          NaN   \n",
       "4             NaN                                          NaN   \n",
       "5             NaN                                          NaN   \n",
       "6             NaN                                          NaN   \n",
       "7             NaN                       ada pengirimn ntb bima   \n",
       "8             NaN                                          NaN   \n",
       "9             NaN                    Barang bagus sesuai specs   \n",
       "\n",
       "                                       reviewContent  likeCount  upVotes  \\\n",
       "0                    bagus  mantap dah sesui pesanan          0        0   \n",
       "1                                 Bagus, sesuai foto          0        0   \n",
       "2                   okkkkk mantaaaaaaapppp ... goood          0        0   \n",
       "3                                       bagus sesuai          0        0   \n",
       "4                                                NaN          0        0   \n",
       "5                                                NaN          0        0   \n",
       "6                                                NaN          0        0   \n",
       "7                                               bima          4        4   \n",
       "8                baru 10 bulan layarnya dah bergaris          0        0   \n",
       "9  Pesan rabu sore,minggu sore sampe,,barang sesu...          0        0   \n",
       "\n",
       "   downVotes  helpful  relevanceScore   boughtDate  clientType retrievedDate  \n",
       "0          0     True           26.51  09 Apr 2019  androidApp    2019-10-02  \n",
       "1          0     True           22.49  24 Sep 2017  androidApp    2019-10-02  \n",
       "2          0     True           21.50  04 Apr 2018  androidApp    2019-10-02  \n",
       "3          0     True           20.51  22 Sep 2017  androidApp    2019-10-02  \n",
       "4          0     True           16.01  17 Agu 2018  androidApp    2019-10-02  \n",
       "5          0     True           16.01  02 Nov 2017  androidApp    2019-10-02  \n",
       "6          0     True           13.01  25 Sep 2017      mobile    2019-10-02  \n",
       "7          0     True            7.22          NaN  androidApp    2019-10-02  \n",
       "8          0     True           21.49  06 Apr 2017  androidApp    2019-10-02  \n",
       "9          0     True           19.50  01 Mar 2017      mobile    2019-10-02  "
      ]
     },
     "execution_count": 57,
     "metadata": {},
     "output_type": "execute_result"
    }
   ],
   "source": [
    "df = pd.read_csv('20191002-reviews.csv')\n",
    "df.head(10)"
   ]
  },
  {
   "cell_type": "code",
   "execution_count": 58,
   "metadata": {},
   "outputs": [
    {
     "data": {
      "text/html": [
       "<div>\n",
       "<style scoped>\n",
       "    .dataframe tbody tr th:only-of-type {\n",
       "        vertical-align: middle;\n",
       "    }\n",
       "\n",
       "    .dataframe tbody tr th {\n",
       "        vertical-align: top;\n",
       "    }\n",
       "\n",
       "    .dataframe thead th {\n",
       "        text-align: right;\n",
       "    }\n",
       "</style>\n",
       "<table border=\"1\" class=\"dataframe\">\n",
       "  <thead>\n",
       "    <tr style=\"text-align: right;\">\n",
       "      <th></th>\n",
       "      <th>itemId</th>\n",
       "      <th>category</th>\n",
       "      <th>name</th>\n",
       "      <th>rating</th>\n",
       "      <th>originalRating</th>\n",
       "      <th>reviewTitle</th>\n",
       "      <th>reviewContent</th>\n",
       "      <th>likeCount</th>\n",
       "      <th>upVotes</th>\n",
       "      <th>downVotes</th>\n",
       "      <th>helpful</th>\n",
       "      <th>relevanceScore</th>\n",
       "      <th>boughtDate</th>\n",
       "      <th>clientType</th>\n",
       "      <th>retrievedDate</th>\n",
       "    </tr>\n",
       "  </thead>\n",
       "  <tbody>\n",
       "    <tr>\n",
       "      <td>203782</td>\n",
       "      <td>9467899</td>\n",
       "      <td>shop-televisi-digital</td>\n",
       "      <td>Isharyanto S.</td>\n",
       "      <td>5</td>\n",
       "      <td>NaN</td>\n",
       "      <td>murah</td>\n",
       "      <td>barang bagus dengan harga kompetitif</td>\n",
       "      <td>6</td>\n",
       "      <td>6</td>\n",
       "      <td>0</td>\n",
       "      <td>True</td>\n",
       "      <td>24.63</td>\n",
       "      <td>22 Nov 2016</td>\n",
       "      <td>desktop</td>\n",
       "      <td>2019-10-02</td>\n",
       "    </tr>\n",
       "    <tr>\n",
       "      <td>203783</td>\n",
       "      <td>9467899</td>\n",
       "      <td>shop-televisi-digital</td>\n",
       "      <td>FIRLY B.</td>\n",
       "      <td>3</td>\n",
       "      <td>NaN</td>\n",
       "      <td>barang bagus dan sesuai pesanan</td>\n",
       "      <td>NaN</td>\n",
       "      <td>0</td>\n",
       "      <td>0</td>\n",
       "      <td>0</td>\n",
       "      <td>True</td>\n",
       "      <td>14.01</td>\n",
       "      <td>10 Apr 2018</td>\n",
       "      <td>androidApp</td>\n",
       "      <td>2019-10-02</td>\n",
       "    </tr>\n",
       "    <tr>\n",
       "      <td>203784</td>\n",
       "      <td>9548087</td>\n",
       "      <td>shop-televisi-digital</td>\n",
       "      <td>soni s.</td>\n",
       "      <td>5</td>\n",
       "      <td>NaN</td>\n",
       "      <td>NaN</td>\n",
       "      <td>NaN</td>\n",
       "      <td>0</td>\n",
       "      <td>0</td>\n",
       "      <td>0</td>\n",
       "      <td>True</td>\n",
       "      <td>15.63</td>\n",
       "      <td>04 Jan 2018</td>\n",
       "      <td>androidApp</td>\n",
       "      <td>2019-10-02</td>\n",
       "    </tr>\n",
       "    <tr>\n",
       "      <td>203785</td>\n",
       "      <td>9548767</td>\n",
       "      <td>shop-televisi-digital</td>\n",
       "      <td>Saidhusin H.</td>\n",
       "      <td>3</td>\n",
       "      <td>NaN</td>\n",
       "      <td>AKARI LED TV</td>\n",
       "      <td>Ok.thank lazada Pagi order sore barang nyampe ...</td>\n",
       "      <td>0</td>\n",
       "      <td>0</td>\n",
       "      <td>0</td>\n",
       "      <td>True</td>\n",
       "      <td>19.48</td>\n",
       "      <td>15 Nov 2016</td>\n",
       "      <td>mobile-app</td>\n",
       "      <td>2019-10-02</td>\n",
       "    </tr>\n",
       "    <tr>\n",
       "      <td>203786</td>\n",
       "      <td>9548767</td>\n",
       "      <td>shop-televisi-digital</td>\n",
       "      <td>Vivan Y.</td>\n",
       "      <td>5</td>\n",
       "      <td>NaN</td>\n",
       "      <td>TOP DAH</td>\n",
       "      <td>semua fitur berfungsi,harganya cukup murah. AK...</td>\n",
       "      <td>0</td>\n",
       "      <td>0</td>\n",
       "      <td>0</td>\n",
       "      <td>True</td>\n",
       "      <td>9.50</td>\n",
       "      <td>NaN</td>\n",
       "      <td>mobile-app</td>\n",
       "      <td>2019-10-02</td>\n",
       "    </tr>\n",
       "  </tbody>\n",
       "</table>\n",
       "</div>"
      ],
      "text/plain": [
       "         itemId               category           name  rating  originalRating  \\\n",
       "203782  9467899  shop-televisi-digital  Isharyanto S.       5             NaN   \n",
       "203783  9467899  shop-televisi-digital       FIRLY B.       3             NaN   \n",
       "203784  9548087  shop-televisi-digital        soni s.       5             NaN   \n",
       "203785  9548767  shop-televisi-digital   Saidhusin H.       3             NaN   \n",
       "203786  9548767  shop-televisi-digital       Vivan Y.       5             NaN   \n",
       "\n",
       "                            reviewTitle  \\\n",
       "203782                            murah   \n",
       "203783  barang bagus dan sesuai pesanan   \n",
       "203784                              NaN   \n",
       "203785                     AKARI LED TV   \n",
       "203786                          TOP DAH   \n",
       "\n",
       "                                            reviewContent  likeCount  upVotes  \\\n",
       "203782               barang bagus dengan harga kompetitif          6        6   \n",
       "203783                                                NaN          0        0   \n",
       "203784                                                NaN          0        0   \n",
       "203785  Ok.thank lazada Pagi order sore barang nyampe ...          0        0   \n",
       "203786  semua fitur berfungsi,harganya cukup murah. AK...          0        0   \n",
       "\n",
       "        downVotes  helpful  relevanceScore   boughtDate  clientType  \\\n",
       "203782          0     True           24.63  22 Nov 2016     desktop   \n",
       "203783          0     True           14.01  10 Apr 2018  androidApp   \n",
       "203784          0     True           15.63  04 Jan 2018  androidApp   \n",
       "203785          0     True           19.48  15 Nov 2016  mobile-app   \n",
       "203786          0     True            9.50          NaN  mobile-app   \n",
       "\n",
       "       retrievedDate  \n",
       "203782    2019-10-02  \n",
       "203783    2019-10-02  \n",
       "203784    2019-10-02  \n",
       "203785    2019-10-02  \n",
       "203786    2019-10-02  "
      ]
     },
     "execution_count": 58,
     "metadata": {},
     "output_type": "execute_result"
    }
   ],
   "source": [
    "df = pd.read_csv('20191002-reviews.csv')\n",
    "df.tail()"
   ]
  },
  {
   "cell_type": "code",
   "execution_count": 59,
   "metadata": {},
   "outputs": [
    {
     "name": "stdout",
     "output_type": "stream",
     "text": [
      "<class 'pandas.core.frame.DataFrame'>\n",
      "RangeIndex: 203787 entries, 0 to 203786\n",
      "Data columns (total 15 columns):\n",
      "itemId            203787 non-null int64\n",
      "category          203787 non-null object\n",
      "name              203787 non-null object\n",
      "rating            203787 non-null int64\n",
      "originalRating    8 non-null float64\n",
      "reviewTitle       23404 non-null object\n",
      "reviewContent     107029 non-null object\n",
      "likeCount         203787 non-null int64\n",
      "upVotes           203787 non-null int64\n",
      "downVotes         203787 non-null int64\n",
      "helpful           203787 non-null bool\n",
      "relevanceScore    203787 non-null float64\n",
      "boughtDate        196680 non-null object\n",
      "clientType        203787 non-null object\n",
      "retrievedDate     203787 non-null object\n",
      "dtypes: bool(1), float64(2), int64(5), object(7)\n",
      "memory usage: 22.0+ MB\n"
     ]
    }
   ],
   "source": [
    "df.info()"
   ]
  },
  {
   "cell_type": "code",
   "execution_count": 60,
   "metadata": {},
   "outputs": [
    {
     "data": {
      "text/plain": [
       "0         beli-harddisk-eksternal\n",
       "1         beli-harddisk-eksternal\n",
       "2         beli-harddisk-eksternal\n",
       "3         beli-harddisk-eksternal\n",
       "4         beli-harddisk-eksternal\n",
       "                   ...           \n",
       "203782      shop-televisi-digital\n",
       "203783      shop-televisi-digital\n",
       "203784      shop-televisi-digital\n",
       "203785      shop-televisi-digital\n",
       "203786      shop-televisi-digital\n",
       "Name: category, Length: 203787, dtype: object"
      ]
     },
     "execution_count": 60,
     "metadata": {},
     "output_type": "execute_result"
    }
   ],
   "source": [
    "df['category']"
   ]
  },
  {
   "cell_type": "code",
   "execution_count": 62,
   "metadata": {},
   "outputs": [
    {
     "data": {
      "text/plain": [
       "beli-harddisk-eksternal    82223\n",
       "jual-flash-drives          64754\n",
       "beli-smart-tv              29765\n",
       "shop-televisi-digital      21264\n",
       "beli-laptop                 5781\n",
       "Name: category, dtype: int64"
      ]
     },
     "execution_count": 62,
     "metadata": {},
     "output_type": "execute_result"
    }
   ],
   "source": [
    "df['category'].value_counts()"
   ]
  },
  {
   "cell_type": "code",
   "execution_count": 71,
   "metadata": {},
   "outputs": [
    {
     "data": {
      "text/plain": [
       "beli-harddisk-eksternal    0.403475\n",
       "jual-flash-drives          0.317753\n",
       "beli-smart-tv              0.146059\n",
       "shop-televisi-digital      0.104344\n",
       "beli-laptop                0.028368\n",
       "Name: category, dtype: float64"
      ]
     },
     "execution_count": 71,
     "metadata": {},
     "output_type": "execute_result"
    }
   ],
   "source": [
    "df['category'].value_counts(normalize=True)"
   ]
  },
  {
   "cell_type": "code",
   "execution_count": 61,
   "metadata": {},
   "outputs": [
    {
     "data": {
      "text/plain": [
       "0         100002528\n",
       "1         100002528\n",
       "2         100002528\n",
       "3         100002528\n",
       "4         100002528\n",
       "            ...    \n",
       "203782      9467899\n",
       "203783      9467899\n",
       "203784      9548087\n",
       "203785      9548767\n",
       "203786      9548767\n",
       "Name: itemId, Length: 203787, dtype: int64"
      ]
     },
     "execution_count": 61,
     "metadata": {},
     "output_type": "execute_result"
    }
   ],
   "source": [
    "df['itemId']"
   ]
  },
  {
   "cell_type": "code",
   "execution_count": 69,
   "metadata": {},
   "outputs": [
    {
     "data": {
      "text/html": [
       "<div>\n",
       "<style scoped>\n",
       "    .dataframe tbody tr th:only-of-type {\n",
       "        vertical-align: middle;\n",
       "    }\n",
       "\n",
       "    .dataframe tbody tr th {\n",
       "        vertical-align: top;\n",
       "    }\n",
       "\n",
       "    .dataframe thead th {\n",
       "        text-align: right;\n",
       "    }\n",
       "</style>\n",
       "<table border=\"1\" class=\"dataframe\">\n",
       "  <thead>\n",
       "    <tr style=\"text-align: right;\">\n",
       "      <th></th>\n",
       "      <th>itemId</th>\n",
       "      <th>category</th>\n",
       "      <th>name</th>\n",
       "      <th>rating</th>\n",
       "      <th>originalRating</th>\n",
       "      <th>reviewTitle</th>\n",
       "      <th>reviewContent</th>\n",
       "      <th>likeCount</th>\n",
       "      <th>upVotes</th>\n",
       "      <th>downVotes</th>\n",
       "      <th>helpful</th>\n",
       "      <th>relevanceScore</th>\n",
       "      <th>boughtDate</th>\n",
       "      <th>clientType</th>\n",
       "      <th>retrievedDate</th>\n",
       "    </tr>\n",
       "  </thead>\n",
       "  <tbody>\n",
       "    <tr>\n",
       "      <td>7</td>\n",
       "      <td>100002528</td>\n",
       "      <td>beli-harddisk-eksternal</td>\n",
       "      <td>nurfarida</td>\n",
       "      <td>1</td>\n",
       "      <td>NaN</td>\n",
       "      <td>ada pengirimn ntb bima</td>\n",
       "      <td>bima</td>\n",
       "      <td>4</td>\n",
       "      <td>4</td>\n",
       "      <td>0</td>\n",
       "      <td>True</td>\n",
       "      <td>7.22</td>\n",
       "      <td>NaN</td>\n",
       "      <td>androidApp</td>\n",
       "      <td>2019-10-02</td>\n",
       "    </tr>\n",
       "    <tr>\n",
       "      <td>8</td>\n",
       "      <td>100003785</td>\n",
       "      <td>beli-harddisk-eksternal</td>\n",
       "      <td>Fadjar B.</td>\n",
       "      <td>1</td>\n",
       "      <td>NaN</td>\n",
       "      <td>NaN</td>\n",
       "      <td>baru 10 bulan layarnya dah bergaris</td>\n",
       "      <td>0</td>\n",
       "      <td>0</td>\n",
       "      <td>0</td>\n",
       "      <td>True</td>\n",
       "      <td>21.49</td>\n",
       "      <td>06 Apr 2017</td>\n",
       "      <td>androidApp</td>\n",
       "      <td>2019-10-02</td>\n",
       "    </tr>\n",
       "    <tr>\n",
       "      <td>11</td>\n",
       "      <td>100004132</td>\n",
       "      <td>beli-harddisk-eksternal</td>\n",
       "      <td>Lazada Guest</td>\n",
       "      <td>1</td>\n",
       "      <td>NaN</td>\n",
       "      <td>Ini cicil pake apa?</td>\n",
       "      <td>Mau tanya ini cicilnya pake apa ya,cc bkn?</td>\n",
       "      <td>7</td>\n",
       "      <td>7</td>\n",
       "      <td>0</td>\n",
       "      <td>True</td>\n",
       "      <td>14.88</td>\n",
       "      <td>NaN</td>\n",
       "      <td>androidApp</td>\n",
       "      <td>2019-10-02</td>\n",
       "    </tr>\n",
       "    <tr>\n",
       "      <td>13</td>\n",
       "      <td>100004505</td>\n",
       "      <td>beli-harddisk-eksternal</td>\n",
       "      <td>Andry M.</td>\n",
       "      <td>1</td>\n",
       "      <td>NaN</td>\n",
       "      <td>Pesanan tidak tepat waktu</td>\n",
       "      <td>Pengirim barang tidak sesuai janji. Katanya ex...</td>\n",
       "      <td>1</td>\n",
       "      <td>1</td>\n",
       "      <td>0</td>\n",
       "      <td>True</td>\n",
       "      <td>31.51</td>\n",
       "      <td>18 Mei 2018</td>\n",
       "      <td>mobile</td>\n",
       "      <td>2019-10-02</td>\n",
       "    </tr>\n",
       "    <tr>\n",
       "      <td>15</td>\n",
       "      <td>100004505</td>\n",
       "      <td>beli-harddisk-eksternal</td>\n",
       "      <td>Lazada Guest</td>\n",
       "      <td>1</td>\n",
       "      <td>NaN</td>\n",
       "      <td>Cara mendapatkan garansi</td>\n",
       "      <td>Bagaimana tv LED saya merek Sharp 24 hitam LC ...</td>\n",
       "      <td>14</td>\n",
       "      <td>14</td>\n",
       "      <td>0</td>\n",
       "      <td>True</td>\n",
       "      <td>22.67</td>\n",
       "      <td>NaN</td>\n",
       "      <td>mobile-app</td>\n",
       "      <td>2019-10-02</td>\n",
       "    </tr>\n",
       "    <tr>\n",
       "      <td>...</td>\n",
       "      <td>...</td>\n",
       "      <td>...</td>\n",
       "      <td>...</td>\n",
       "      <td>...</td>\n",
       "      <td>...</td>\n",
       "      <td>...</td>\n",
       "      <td>...</td>\n",
       "      <td>...</td>\n",
       "      <td>...</td>\n",
       "      <td>...</td>\n",
       "      <td>...</td>\n",
       "      <td>...</td>\n",
       "      <td>...</td>\n",
       "      <td>...</td>\n",
       "      <td>...</td>\n",
       "    </tr>\n",
       "    <tr>\n",
       "      <td>203731</td>\n",
       "      <td>7883195</td>\n",
       "      <td>shop-televisi-digital</td>\n",
       "      <td>Surya W.</td>\n",
       "      <td>1</td>\n",
       "      <td>NaN</td>\n",
       "      <td>Mengecewakan Sekali</td>\n",
       "      <td>Ntah penjual atau memang toshiba nya yang kual...</td>\n",
       "      <td>0</td>\n",
       "      <td>0</td>\n",
       "      <td>0</td>\n",
       "      <td>True</td>\n",
       "      <td>26.75</td>\n",
       "      <td>17 Jul 2016</td>\n",
       "      <td>desktop</td>\n",
       "      <td>2019-10-02</td>\n",
       "    </tr>\n",
       "    <tr>\n",
       "      <td>203742</td>\n",
       "      <td>7939218</td>\n",
       "      <td>shop-televisi-digital</td>\n",
       "      <td>Lazada Customer</td>\n",
       "      <td>1</td>\n",
       "      <td>NaN</td>\n",
       "      <td>NaN</td>\n",
       "      <td>NaN</td>\n",
       "      <td>0</td>\n",
       "      <td>0</td>\n",
       "      <td>0</td>\n",
       "      <td>True</td>\n",
       "      <td>14.99</td>\n",
       "      <td>14 Des 2017</td>\n",
       "      <td>androidApp</td>\n",
       "      <td>2019-10-02</td>\n",
       "    </tr>\n",
       "    <tr>\n",
       "      <td>203776</td>\n",
       "      <td>9467887</td>\n",
       "      <td>shop-televisi-digital</td>\n",
       "      <td>Umalida</td>\n",
       "      <td>1</td>\n",
       "      <td>NaN</td>\n",
       "      <td>Harga tidak sesuai</td>\n",
       "      <td>Hrga 2,6jt v giliran di pesan muncul Pembayara...</td>\n",
       "      <td>12</td>\n",
       "      <td>12</td>\n",
       "      <td>1</td>\n",
       "      <td>True</td>\n",
       "      <td>14.79</td>\n",
       "      <td>NaN</td>\n",
       "      <td>androidApp</td>\n",
       "      <td>2019-10-02</td>\n",
       "    </tr>\n",
       "    <tr>\n",
       "      <td>203779</td>\n",
       "      <td>9467887</td>\n",
       "      <td>shop-televisi-digital</td>\n",
       "      <td>Lazada Guest</td>\n",
       "      <td>1</td>\n",
       "      <td>NaN</td>\n",
       "      <td>Nanda</td>\n",
       "      <td>Kalo kirim ke kupang bisa gak?</td>\n",
       "      <td>0</td>\n",
       "      <td>0</td>\n",
       "      <td>1</td>\n",
       "      <td>True</td>\n",
       "      <td>10.35</td>\n",
       "      <td>NaN</td>\n",
       "      <td>mobile-app</td>\n",
       "      <td>2019-10-02</td>\n",
       "    </tr>\n",
       "    <tr>\n",
       "      <td>203781</td>\n",
       "      <td>9467898</td>\n",
       "      <td>shop-televisi-digital</td>\n",
       "      <td>Frank S.</td>\n",
       "      <td>1</td>\n",
       "      <td>NaN</td>\n",
       "      <td>Wrong Picture in the Article - I got the wrong...</td>\n",
       "      <td>seller incapable to keep his product page clea...</td>\n",
       "      <td>0</td>\n",
       "      <td>0</td>\n",
       "      <td>0</td>\n",
       "      <td>True</td>\n",
       "      <td>28.01</td>\n",
       "      <td>14 Des 2017</td>\n",
       "      <td>desktop</td>\n",
       "      <td>2019-10-02</td>\n",
       "    </tr>\n",
       "  </tbody>\n",
       "</table>\n",
       "<p>9749 rows × 15 columns</p>\n",
       "</div>"
      ],
      "text/plain": [
       "           itemId                 category             name  rating  \\\n",
       "7       100002528  beli-harddisk-eksternal        nurfarida       1   \n",
       "8       100003785  beli-harddisk-eksternal        Fadjar B.       1   \n",
       "11      100004132  beli-harddisk-eksternal     Lazada Guest       1   \n",
       "13      100004505  beli-harddisk-eksternal         Andry M.       1   \n",
       "15      100004505  beli-harddisk-eksternal     Lazada Guest       1   \n",
       "...           ...                      ...              ...     ...   \n",
       "203731    7883195    shop-televisi-digital         Surya W.       1   \n",
       "203742    7939218    shop-televisi-digital  Lazada Customer       1   \n",
       "203776    9467887    shop-televisi-digital          Umalida       1   \n",
       "203779    9467887    shop-televisi-digital     Lazada Guest       1   \n",
       "203781    9467898    shop-televisi-digital         Frank S.       1   \n",
       "\n",
       "        originalRating                                        reviewTitle  \\\n",
       "7                  NaN                             ada pengirimn ntb bima   \n",
       "8                  NaN                                                NaN   \n",
       "11                 NaN                                Ini cicil pake apa?   \n",
       "13                 NaN                          Pesanan tidak tepat waktu   \n",
       "15                 NaN                           Cara mendapatkan garansi   \n",
       "...                ...                                                ...   \n",
       "203731             NaN                                Mengecewakan Sekali   \n",
       "203742             NaN                                                NaN   \n",
       "203776             NaN                                 Harga tidak sesuai   \n",
       "203779             NaN                                              Nanda   \n",
       "203781             NaN  Wrong Picture in the Article - I got the wrong...   \n",
       "\n",
       "                                            reviewContent  likeCount  upVotes  \\\n",
       "7                                                    bima          4        4   \n",
       "8                     baru 10 bulan layarnya dah bergaris          0        0   \n",
       "11             Mau tanya ini cicilnya pake apa ya,cc bkn?          7        7   \n",
       "13      Pengirim barang tidak sesuai janji. Katanya ex...          1        1   \n",
       "15      Bagaimana tv LED saya merek Sharp 24 hitam LC ...         14       14   \n",
       "...                                                   ...        ...      ...   \n",
       "203731  Ntah penjual atau memang toshiba nya yang kual...          0        0   \n",
       "203742                                                NaN          0        0   \n",
       "203776  Hrga 2,6jt v giliran di pesan muncul Pembayara...         12       12   \n",
       "203779                     Kalo kirim ke kupang bisa gak?          0        0   \n",
       "203781  seller incapable to keep his product page clea...          0        0   \n",
       "\n",
       "        downVotes  helpful  relevanceScore   boughtDate  clientType  \\\n",
       "7               0     True            7.22          NaN  androidApp   \n",
       "8               0     True           21.49  06 Apr 2017  androidApp   \n",
       "11              0     True           14.88          NaN  androidApp   \n",
       "13              0     True           31.51  18 Mei 2018      mobile   \n",
       "15              0     True           22.67          NaN  mobile-app   \n",
       "...           ...      ...             ...          ...         ...   \n",
       "203731          0     True           26.75  17 Jul 2016     desktop   \n",
       "203742          0     True           14.99  14 Des 2017  androidApp   \n",
       "203776          1     True           14.79          NaN  androidApp   \n",
       "203779          1     True           10.35          NaN  mobile-app   \n",
       "203781          0     True           28.01  14 Des 2017     desktop   \n",
       "\n",
       "       retrievedDate  \n",
       "7         2019-10-02  \n",
       "8         2019-10-02  \n",
       "11        2019-10-02  \n",
       "13        2019-10-02  \n",
       "15        2019-10-02  \n",
       "...              ...  \n",
       "203731    2019-10-02  \n",
       "203742    2019-10-02  \n",
       "203776    2019-10-02  \n",
       "203779    2019-10-02  \n",
       "203781    2019-10-02  \n",
       "\n",
       "[9749 rows x 15 columns]"
      ]
     },
     "execution_count": 69,
     "metadata": {},
     "output_type": "execute_result"
    }
   ],
   "source": [
    "df.loc[df['rating']==1]"
   ]
  },
  {
   "cell_type": "code",
   "execution_count": 70,
   "metadata": {},
   "outputs": [
    {
     "data": {
      "text/html": [
       "<div>\n",
       "<style scoped>\n",
       "    .dataframe tbody tr th:only-of-type {\n",
       "        vertical-align: middle;\n",
       "    }\n",
       "\n",
       "    .dataframe tbody tr th {\n",
       "        vertical-align: top;\n",
       "    }\n",
       "\n",
       "    .dataframe thead th {\n",
       "        text-align: right;\n",
       "    }\n",
       "</style>\n",
       "<table border=\"1\" class=\"dataframe\">\n",
       "  <thead>\n",
       "    <tr style=\"text-align: right;\">\n",
       "      <th></th>\n",
       "      <th>itemId</th>\n",
       "      <th>category</th>\n",
       "      <th>name</th>\n",
       "      <th>rating</th>\n",
       "      <th>originalRating</th>\n",
       "      <th>reviewTitle</th>\n",
       "      <th>reviewContent</th>\n",
       "      <th>likeCount</th>\n",
       "      <th>upVotes</th>\n",
       "      <th>downVotes</th>\n",
       "      <th>helpful</th>\n",
       "      <th>relevanceScore</th>\n",
       "      <th>boughtDate</th>\n",
       "      <th>clientType</th>\n",
       "      <th>retrievedDate</th>\n",
       "    </tr>\n",
       "  </thead>\n",
       "  <tbody>\n",
       "    <tr>\n",
       "      <td>0</td>\n",
       "      <td>100002528</td>\n",
       "      <td>beli-harddisk-eksternal</td>\n",
       "      <td>Kamal U.</td>\n",
       "      <td>5</td>\n",
       "      <td>NaN</td>\n",
       "      <td>NaN</td>\n",
       "      <td>bagus  mantap dah sesui pesanan</td>\n",
       "      <td>0</td>\n",
       "      <td>0</td>\n",
       "      <td>0</td>\n",
       "      <td>True</td>\n",
       "      <td>26.51</td>\n",
       "      <td>09 Apr 2019</td>\n",
       "      <td>androidApp</td>\n",
       "      <td>2019-10-02</td>\n",
       "    </tr>\n",
       "    <tr>\n",
       "      <td>2</td>\n",
       "      <td>100002528</td>\n",
       "      <td>beli-harddisk-eksternal</td>\n",
       "      <td>Lazada Customer</td>\n",
       "      <td>5</td>\n",
       "      <td>NaN</td>\n",
       "      <td>ok mantaaapppp barang sesuai pesanan.. good</td>\n",
       "      <td>okkkkk mantaaaaaaapppp ... goood</td>\n",
       "      <td>0</td>\n",
       "      <td>0</td>\n",
       "      <td>0</td>\n",
       "      <td>True</td>\n",
       "      <td>21.50</td>\n",
       "      <td>04 Apr 2018</td>\n",
       "      <td>androidApp</td>\n",
       "      <td>2019-10-02</td>\n",
       "    </tr>\n",
       "    <tr>\n",
       "      <td>4</td>\n",
       "      <td>100002528</td>\n",
       "      <td>beli-harddisk-eksternal</td>\n",
       "      <td>Yosep M.</td>\n",
       "      <td>5</td>\n",
       "      <td>NaN</td>\n",
       "      <td>NaN</td>\n",
       "      <td>NaN</td>\n",
       "      <td>0</td>\n",
       "      <td>0</td>\n",
       "      <td>0</td>\n",
       "      <td>True</td>\n",
       "      <td>16.01</td>\n",
       "      <td>17 Agu 2018</td>\n",
       "      <td>androidApp</td>\n",
       "      <td>2019-10-02</td>\n",
       "    </tr>\n",
       "    <tr>\n",
       "      <td>5</td>\n",
       "      <td>100002528</td>\n",
       "      <td>beli-harddisk-eksternal</td>\n",
       "      <td>Deden</td>\n",
       "      <td>5</td>\n",
       "      <td>NaN</td>\n",
       "      <td>NaN</td>\n",
       "      <td>NaN</td>\n",
       "      <td>0</td>\n",
       "      <td>0</td>\n",
       "      <td>0</td>\n",
       "      <td>True</td>\n",
       "      <td>16.01</td>\n",
       "      <td>02 Nov 2017</td>\n",
       "      <td>androidApp</td>\n",
       "      <td>2019-10-02</td>\n",
       "    </tr>\n",
       "    <tr>\n",
       "      <td>6</td>\n",
       "      <td>100002528</td>\n",
       "      <td>beli-harddisk-eksternal</td>\n",
       "      <td>Yeana</td>\n",
       "      <td>5</td>\n",
       "      <td>NaN</td>\n",
       "      <td>NaN</td>\n",
       "      <td>NaN</td>\n",
       "      <td>0</td>\n",
       "      <td>0</td>\n",
       "      <td>0</td>\n",
       "      <td>True</td>\n",
       "      <td>13.01</td>\n",
       "      <td>25 Sep 2017</td>\n",
       "      <td>mobile</td>\n",
       "      <td>2019-10-02</td>\n",
       "    </tr>\n",
       "    <tr>\n",
       "      <td>...</td>\n",
       "      <td>...</td>\n",
       "      <td>...</td>\n",
       "      <td>...</td>\n",
       "      <td>...</td>\n",
       "      <td>...</td>\n",
       "      <td>...</td>\n",
       "      <td>...</td>\n",
       "      <td>...</td>\n",
       "      <td>...</td>\n",
       "      <td>...</td>\n",
       "      <td>...</td>\n",
       "      <td>...</td>\n",
       "      <td>...</td>\n",
       "      <td>...</td>\n",
       "      <td>...</td>\n",
       "    </tr>\n",
       "    <tr>\n",
       "      <td>203777</td>\n",
       "      <td>9467887</td>\n",
       "      <td>shop-televisi-digital</td>\n",
       "      <td>Fahri H.</td>\n",
       "      <td>5</td>\n",
       "      <td>NaN</td>\n",
       "      <td>NaN</td>\n",
       "      <td>NaN</td>\n",
       "      <td>0</td>\n",
       "      <td>0</td>\n",
       "      <td>0</td>\n",
       "      <td>True</td>\n",
       "      <td>14.01</td>\n",
       "      <td>20 Jun 2017</td>\n",
       "      <td>iosApp</td>\n",
       "      <td>2019-10-02</td>\n",
       "    </tr>\n",
       "    <tr>\n",
       "      <td>203780</td>\n",
       "      <td>9467887</td>\n",
       "      <td>shop-televisi-digital</td>\n",
       "      <td>Ririnn</td>\n",
       "      <td>5</td>\n",
       "      <td>NaN</td>\n",
       "      <td>Orderan</td>\n",
       "      <td>Wkwkwk</td>\n",
       "      <td>0</td>\n",
       "      <td>0</td>\n",
       "      <td>1</td>\n",
       "      <td>True</td>\n",
       "      <td>3.01</td>\n",
       "      <td>NaN</td>\n",
       "      <td>androidApp</td>\n",
       "      <td>2019-10-02</td>\n",
       "    </tr>\n",
       "    <tr>\n",
       "      <td>203782</td>\n",
       "      <td>9467899</td>\n",
       "      <td>shop-televisi-digital</td>\n",
       "      <td>Isharyanto S.</td>\n",
       "      <td>5</td>\n",
       "      <td>NaN</td>\n",
       "      <td>murah</td>\n",
       "      <td>barang bagus dengan harga kompetitif</td>\n",
       "      <td>6</td>\n",
       "      <td>6</td>\n",
       "      <td>0</td>\n",
       "      <td>True</td>\n",
       "      <td>24.63</td>\n",
       "      <td>22 Nov 2016</td>\n",
       "      <td>desktop</td>\n",
       "      <td>2019-10-02</td>\n",
       "    </tr>\n",
       "    <tr>\n",
       "      <td>203784</td>\n",
       "      <td>9548087</td>\n",
       "      <td>shop-televisi-digital</td>\n",
       "      <td>soni s.</td>\n",
       "      <td>5</td>\n",
       "      <td>NaN</td>\n",
       "      <td>NaN</td>\n",
       "      <td>NaN</td>\n",
       "      <td>0</td>\n",
       "      <td>0</td>\n",
       "      <td>0</td>\n",
       "      <td>True</td>\n",
       "      <td>15.63</td>\n",
       "      <td>04 Jan 2018</td>\n",
       "      <td>androidApp</td>\n",
       "      <td>2019-10-02</td>\n",
       "    </tr>\n",
       "    <tr>\n",
       "      <td>203786</td>\n",
       "      <td>9548767</td>\n",
       "      <td>shop-televisi-digital</td>\n",
       "      <td>Vivan Y.</td>\n",
       "      <td>5</td>\n",
       "      <td>NaN</td>\n",
       "      <td>TOP DAH</td>\n",
       "      <td>semua fitur berfungsi,harganya cukup murah. AK...</td>\n",
       "      <td>0</td>\n",
       "      <td>0</td>\n",
       "      <td>0</td>\n",
       "      <td>True</td>\n",
       "      <td>9.50</td>\n",
       "      <td>NaN</td>\n",
       "      <td>mobile-app</td>\n",
       "      <td>2019-10-02</td>\n",
       "    </tr>\n",
       "  </tbody>\n",
       "</table>\n",
       "<p>166016 rows × 15 columns</p>\n",
       "</div>"
      ],
      "text/plain": [
       "           itemId                 category             name  rating  \\\n",
       "0       100002528  beli-harddisk-eksternal         Kamal U.       5   \n",
       "2       100002528  beli-harddisk-eksternal  Lazada Customer       5   \n",
       "4       100002528  beli-harddisk-eksternal         Yosep M.       5   \n",
       "5       100002528  beli-harddisk-eksternal            Deden       5   \n",
       "6       100002528  beli-harddisk-eksternal            Yeana       5   \n",
       "...           ...                      ...              ...     ...   \n",
       "203777    9467887    shop-televisi-digital         Fahri H.       5   \n",
       "203780    9467887    shop-televisi-digital           Ririnn       5   \n",
       "203782    9467899    shop-televisi-digital    Isharyanto S.       5   \n",
       "203784    9548087    shop-televisi-digital          soni s.       5   \n",
       "203786    9548767    shop-televisi-digital         Vivan Y.       5   \n",
       "\n",
       "        originalRating                                  reviewTitle  \\\n",
       "0                  NaN                                          NaN   \n",
       "2                  NaN  ok mantaaapppp barang sesuai pesanan.. good   \n",
       "4                  NaN                                          NaN   \n",
       "5                  NaN                                          NaN   \n",
       "6                  NaN                                          NaN   \n",
       "...                ...                                          ...   \n",
       "203777             NaN                                          NaN   \n",
       "203780             NaN                                      Orderan   \n",
       "203782             NaN                                        murah   \n",
       "203784             NaN                                          NaN   \n",
       "203786             NaN                                      TOP DAH   \n",
       "\n",
       "                                            reviewContent  likeCount  upVotes  \\\n",
       "0                         bagus  mantap dah sesui pesanan          0        0   \n",
       "2                        okkkkk mantaaaaaaapppp ... goood          0        0   \n",
       "4                                                     NaN          0        0   \n",
       "5                                                     NaN          0        0   \n",
       "6                                                     NaN          0        0   \n",
       "...                                                   ...        ...      ...   \n",
       "203777                                                NaN          0        0   \n",
       "203780                                             Wkwkwk          0        0   \n",
       "203782               barang bagus dengan harga kompetitif          6        6   \n",
       "203784                                                NaN          0        0   \n",
       "203786  semua fitur berfungsi,harganya cukup murah. AK...          0        0   \n",
       "\n",
       "        downVotes  helpful  relevanceScore   boughtDate  clientType  \\\n",
       "0               0     True           26.51  09 Apr 2019  androidApp   \n",
       "2               0     True           21.50  04 Apr 2018  androidApp   \n",
       "4               0     True           16.01  17 Agu 2018  androidApp   \n",
       "5               0     True           16.01  02 Nov 2017  androidApp   \n",
       "6               0     True           13.01  25 Sep 2017      mobile   \n",
       "...           ...      ...             ...          ...         ...   \n",
       "203777          0     True           14.01  20 Jun 2017      iosApp   \n",
       "203780          1     True            3.01          NaN  androidApp   \n",
       "203782          0     True           24.63  22 Nov 2016     desktop   \n",
       "203784          0     True           15.63  04 Jan 2018  androidApp   \n",
       "203786          0     True            9.50          NaN  mobile-app   \n",
       "\n",
       "       retrievedDate  \n",
       "0         2019-10-02  \n",
       "2         2019-10-02  \n",
       "4         2019-10-02  \n",
       "5         2019-10-02  \n",
       "6         2019-10-02  \n",
       "...              ...  \n",
       "203777    2019-10-02  \n",
       "203780    2019-10-02  \n",
       "203782    2019-10-02  \n",
       "203784    2019-10-02  \n",
       "203786    2019-10-02  \n",
       "\n",
       "[166016 rows x 15 columns]"
      ]
     },
     "execution_count": 70,
     "metadata": {},
     "output_type": "execute_result"
    }
   ],
   "source": [
    "df.loc[df['rating']==5]"
   ]
  },
  {
   "cell_type": "code",
   "execution_count": 83,
   "metadata": {},
   "outputs": [
    {
     "data": {
      "image/png": "[encoded data removed]",
      "text/plain": [
       "<Figure size 432x288 with 1 Axes>"
      ]
     },
     "metadata": {
      "needs_background": "light"
     },
     "output_type": "display_data"
    }
   ],
   "source": [
    "df['category'].value_counts().plot(kind='bar')\n",
    "plt.title('Grafik Total Penjualan Barang')\n",
    "plt.ylabel('Penjualan')\n",
    "plt.xlabel('Nama Barang')\n",
    "plt.show()"
   ]
  },
  {
   "cell_type": "code",
   "execution_count": null,
   "metadata": {},
   "outputs": [],
   "source": []
  }
 ],
 "metadata": {
  "kernelspec": {
   "display_name": "Python 3",
   "language": "python",
   "name": "python3"
  },
  "language_info": {
   "codemirror_mode": {
    "name": "ipython",
    "version": 3
   },
   "file_extension": ".py",
   "mimetype": "text/x-python",
   "name": "python",
   "nbconvert_exporter": "python",
   "pygments_lexer": "ipython3",
   "version": "3.7.4"
  }
 },
 "nbformat": 4,
 "nbformat_minor": 4
}
